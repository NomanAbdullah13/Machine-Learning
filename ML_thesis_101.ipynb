{
  "nbformat": 4,
  "nbformat_minor": 0,
  "metadata": {
    "colab": {
      "provenance": [],
      "gpuType": "T4"
    },
    "kernelspec": {
      "name": "python3",
      "display_name": "Python 3"
    },
    "language_info": {
      "name": "python"
    },
    "accelerator": "GPU"
  },
  "cells": [
    {
      "cell_type": "code",
      "source": [
        "import pandas as pd\n",
        "import torch\n",
        "import numpy as np\n",
        "from sklearn.model_selection import train_test_split\n",
        "from sklearn.feature_extraction.text import TfidfVectorizer\n",
        "from sklearn.preprocessing import LabelEncoder\n",
        "from sklearn.linear_model import LogisticRegression\n",
        "from sklearn.svm import SVC\n",
        "from sklearn.ensemble import RandomForestClassifier\n",
        "from sklearn.naive_bayes import MultinomialNB\n",
        "from sklearn.metrics import accuracy_score, classification_report"
      ],
      "metadata": {
        "id": "XGZ0kdnn0FKJ"
      },
      "execution_count": null,
      "outputs": []
    },
    {
      "cell_type": "code",
      "source": [
        "from google.colab import drive\n",
        "drive.mount('/content/drive')"
      ],
      "metadata": {
        "colab": {
          "base_uri": "https://localhost:8080/"
        },
        "id": "B3ZHpp33-bKF",
        "outputId": "d548cb79-7eb7-42ca-fad9-a3966651a63f"
      },
      "execution_count": 1,
      "outputs": [
        {
          "output_type": "stream",
          "name": "stdout",
          "text": [
            "Drive already mounted at /content/drive; to attempt to forcibly remount, call drive.mount(\"/content/drive\", force_remount=True).\n"
          ]
        }
      ]
    },
    {
      "cell_type": "code",
      "source": [
        "# Load dataset\n",
        "df = pd.read_csv(\"/content/drive/MyDrive/Thesis/bully_not_bully_dataset.csv\")\n"
      ],
      "metadata": {
        "id": "H-4I_zcJ0Hdz"
      },
      "execution_count": null,
      "outputs": []
    },
    {
      "cell_type": "code",
      "source": [
        "# Data Preprocessing\n",
        "def preprocess_text(text):\n",
        "    text = text.strip()\n",
        "    text = text.replace(\"\\n\", \" \")  # Remove newlines\n",
        "    return text\n",
        "\n",
        "df['comment'] = df['comment'].apply(preprocess_text)"
      ],
      "metadata": {
        "id": "oyvu-iM50P4D"
      },
      "execution_count": null,
      "outputs": []
    },
    {
      "cell_type": "code",
      "source": [
        "# Train-Test Split\n",
        "train_texts, test_texts, train_labels, test_labels = train_test_split(df['comment'], df['bully_label'], test_size=0.2, random_state=42)\n"
      ],
      "metadata": {
        "id": "f9HZ42Gj0THw"
      },
      "execution_count": null,
      "outputs": []
    },
    {
      "cell_type": "code",
      "source": [
        "# Text Vectorization using TF-IDF\n",
        "vectorizer = TfidfVectorizer(max_features=5000)\n",
        "X_train = vectorizer.fit_transform(train_texts)\n",
        "X_test = vectorizer.transform(test_texts)"
      ],
      "metadata": {
        "id": "fzXSwmyu0W4L"
      },
      "execution_count": null,
      "outputs": []
    },
    {
      "cell_type": "code",
      "source": [
        "# Encode Labels\n",
        "label_encoder = LabelEncoder()\n",
        "y_train = label_encoder.fit_transform(train_labels)\n",
        "y_test = label_encoder.transform(test_labels)"
      ],
      "metadata": {
        "id": "fEIzpXBO0YxW"
      },
      "execution_count": null,
      "outputs": []
    },
    {
      "cell_type": "code",
      "source": [
        "# Define models\n",
        "models = {\n",
        "    \"Logistic Regression\": LogisticRegression(),\n",
        "    \"Support Vector Machine\": SVC(),\n",
        "    \"Random Forest\": RandomForestClassifier(n_estimators=100),\n",
        "    \"Naive Bayes\": MultinomialNB()\n",
        "}"
      ],
      "metadata": {
        "id": "zlgpsELR0a8E"
      },
      "execution_count": null,
      "outputs": []
    },
    {
      "cell_type": "code",
      "source": [
        "# Train and Evaluate Models\n",
        "for model_name, model in models.items():\n",
        "    print(f\"Training {model_name}...\")\n",
        "    model.fit(X_train, y_train)\n",
        "    y_pred = model.predict(X_test)\n",
        "    accuracy = accuracy_score(y_test, y_pred)\n",
        "    print(f\"{model_name} Accuracy: {accuracy:.4f}\")\n",
        "    print(classification_report(y_test, y_pred, target_names=label_encoder.classes_))\n"
      ],
      "metadata": {
        "colab": {
          "base_uri": "https://localhost:8080/"
        },
        "id": "sW81osp-0ctr",
        "outputId": "01397787-7794-4c07-b50b-ce702bd3222a"
      },
      "execution_count": null,
      "outputs": [
        {
          "output_type": "stream",
          "name": "stdout",
          "text": [
            "Training Logistic Regression...\n",
            "Logistic Regression Accuracy: 0.7906\n",
            "              precision    recall  f1-score   support\n",
            "\n",
            "       bully       0.80      0.91      0.85      5732\n",
            "   not bully       0.77      0.57      0.66      3069\n",
            "\n",
            "    accuracy                           0.79      8801\n",
            "   macro avg       0.78      0.74      0.75      8801\n",
            "weighted avg       0.79      0.79      0.78      8801\n",
            "\n",
            "Training Support Vector Machine...\n",
            "Support Vector Machine Accuracy: 0.8013\n",
            "              precision    recall  f1-score   support\n",
            "\n",
            "       bully       0.80      0.92      0.86      5732\n",
            "   not bully       0.80      0.57      0.67      3069\n",
            "\n",
            "    accuracy                           0.80      8801\n",
            "   macro avg       0.80      0.75      0.76      8801\n",
            "weighted avg       0.80      0.80      0.79      8801\n",
            "\n",
            "Training Random Forest...\n",
            "Random Forest Accuracy: 0.7872\n",
            "              precision    recall  f1-score   support\n",
            "\n",
            "       bully       0.79      0.92      0.85      5732\n",
            "   not bully       0.78      0.54      0.64      3069\n",
            "\n",
            "    accuracy                           0.79      8801\n",
            "   macro avg       0.79      0.73      0.74      8801\n",
            "weighted avg       0.79      0.79      0.78      8801\n",
            "\n",
            "Training Naive Bayes...\n",
            "Naive Bayes Accuracy: 0.7717\n",
            "              precision    recall  f1-score   support\n",
            "\n",
            "       bully       0.76      0.95      0.84      5732\n",
            "   not bully       0.83      0.43      0.57      3069\n",
            "\n",
            "    accuracy                           0.77      8801\n",
            "   macro avg       0.80      0.69      0.71      8801\n",
            "weighted avg       0.78      0.77      0.75      8801\n",
            "\n"
          ]
        }
      ]
    }
  ]
}